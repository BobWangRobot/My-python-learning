{
 "cells": [
  {
   "cell_type": "markdown",
   "metadata": {},
   "source": [
    "# 关键字 "
   ]
  },
  {
   "cell_type": "markdown",
   "metadata": {},
   "source": [
    "## 逻辑关系\n",
    "* and：与操作\n",
    "* not：非操作\n",
    "* or：或操作"
   ]
  },
  {
   "cell_type": "markdown",
   "metadata": {},
   "source": [
    "## 引用库函数\n",
    "* from\n",
    "* import"
   ]
  },
  {
   "cell_type": "markdown",
   "metadata": {},
   "source": [
    "## 条件判断和循环\n",
    "* if else elif：条件判断\n",
    "* while：条件成立时，执行循环\n",
    "* for：遍历\n",
    "* in：经常用在for语句中，执行循环。in也可以用来判断数字是否在数组中。如：1 in range(10)，返回值为true。\n",
    "* break：中断全部循环\n",
    "* continue：跳出本次循环"
   ]
  },
  {
   "cell_type": "markdown",
   "metadata": {},
   "source": [
    "## 错误调试"
   ]
  },
  {
   "cell_type": "markdown",
   "metadata": {},
   "source": [
    "* assert：断言，assert之后的布尔表达式的值必须为真，否则报错"
   ]
  },
  {
   "cell_type": "markdown",
   "metadata": {},
   "source": [
    "* try except finally：try后执行程序，报错执行except"
   ]
  },
  {
   "cell_type": "code",
   "execution_count": 1,
   "metadata": {},
   "outputs": [
    {
     "name": "stdout",
     "output_type": "stream",
     "text": [
      "0.5\n",
      "math error\n",
      "successful\n"
     ]
    }
   ],
   "source": [
    "try:\n",
    "    a = 1/2\n",
    "    print(a)\n",
    "    b = 1/0\n",
    "    print(b)\n",
    "    print(c)\n",
    "except ZeroDivisionError:\n",
    "    print(\"math error\")\n",
    "except NameError:\n",
    "    print(\"wrong name\")\n",
    "finally:\n",
    "    print(\"successful\")\n",
    "    "
   ]
  },
  {
   "cell_type": "markdown",
   "metadata": {},
   "source": [
    "* with as:可以用来替换try except finally。参考：https://blog.csdn.net/qiqicos/article/details/79200089 和 https://www.ibm.com/developerworks/cn/opensource/os-cn-pythonwith/"
   ]
  },
  {
   "cell_type": "markdown",
   "metadata": {},
   "source": [
    "* raise：引发自定的异常（错误），之后的代码不再执行。参考：http://www.runoob.com/python/python-exceptions.html"
   ]
  },
  {
   "cell_type": "markdown",
   "metadata": {},
   "source": [
    "* as：重命名，import as 和 with as"
   ]
  },
  {
   "cell_type": "markdown",
   "metadata": {},
   "source": [
    "## 函数定义\n",
    "* def：定义函数\n",
    "* return：返回某个值"
   ]
  },
  {
   "cell_type": "markdown",
   "metadata": {},
   "source": [
    "## 其他关键字"
   ]
  },
  {
   "cell_type": "markdown",
   "metadata": {},
   "source": [
    "* is：比较的是两个实例对象是不是完全相同，它们是不是同一个对象，占用的内存地址是否相同。"
   ]
  },
  {
   "cell_type": "markdown",
   "metadata": {},
   "source": [
    "* del: 删除变量，解除引用。参考：https://blog.csdn.net/windscloud/article/details/79732014"
   ]
  },
  {
   "cell_type": "markdown",
   "metadata": {},
   "source": [
    "* print：打印"
   ]
  },
  {
   "cell_type": "markdown",
   "metadata": {},
   "source": [
    "* class：定义类"
   ]
  },
  {
   "cell_type": "markdown",
   "metadata": {},
   "source": [
    "* global：定义全局变量。函数中的变量一般是局部变量，但是使用global可以在函数中定义全局变量。"
   ]
  },
  {
   "cell_type": "markdown",
   "metadata": {},
   "source": [
    "* pass: 占位符，在程序不完整时，用占位符替代，程序可以顺利执行，不会报错。"
   ]
  },
  {
   "cell_type": "markdown",
   "metadata": {},
   "source": [
    "* yield：生成器，用于迭代功能，但是与一般数组不同，它只能迭代一次，下次迭代将寻找下一个yield，所以它占的内存比较小。\n",
    "     参考资料：1.https://www.cnblogs.com/maoxiaolv/p/6425875.html \n",
    "           2.https://www.ibm.com/developerworks/cn/opensource/os-cn-python-yield/\n",
    "           3.https://blog.csdn.net/u013205877/article/details/70332612"
   ]
  },
  {
   "cell_type": "code",
   "execution_count": 2,
   "metadata": {},
   "outputs": [
    {
     "name": "stdout",
     "output_type": "stream",
     "text": [
      "2\n",
      "3\n",
      "4\n",
      "5\n"
     ]
    }
   ],
   "source": [
    "def addlist(alist):\n",
    "    for i in alist:\n",
    "        yield i + 1\n",
    "        \n",
    "alist = [1, 2, 3, 4]    \n",
    "for x in addlist(alist):\n",
    "    print(x)"
   ]
  },
  {
   "cell_type": "markdown",
   "metadata": {},
   "source": [
    "* exec: 执行储存在字符串或文件中的 Python 语句，，也就是把字符串当做代码执行，相比于 eval，exec可以执行更复杂的 Python 代码。"
   ]
  },
  {
   "cell_type": "markdown",
   "metadata": {},
   "source": [
    "* lambda：匿名函数。用法：“lambda 参数：函数表达式”"
   ]
  },
  {
   "cell_type": "markdown",
   "metadata": {},
   "source": [
    "# 数据类型"
   ]
  },
  {
   "cell_type": "markdown",
   "metadata": {},
   "source": [
    "针对每一种数据类型，都举出一些例子来，例如，针对string，你可以举出一些字符串。"
   ]
  },
  {
   "cell_type": "markdown",
   "metadata": {},
   "source": [
    "True：真值。1==1"
   ]
  },
  {
   "cell_type": "markdown",
   "metadata": {},
   "source": [
    "False：假。1 == 2"
   ]
  },
  {
   "cell_type": "markdown",
   "metadata": {},
   "source": [
    "None：和任何数据类型比较永远返回False。"
   ]
  },
  {
   "cell_type": "markdown",
   "metadata": {},
   "source": [
    "string：字符串。任何输入的数据都是字符串，如“哈哈哈哈”。"
   ]
  },
  {
   "cell_type": "markdown",
   "metadata": {},
   "source": [
    "number：数字。"
   ]
  },
  {
   "cell_type": "markdown",
   "metadata": {},
   "source": [
    "floats:浮点型。"
   ]
  },
  {
   "cell_type": "markdown",
   "metadata": {},
   "source": [
    "lists：列表，用 [] 表示。"
   ]
  },
  {
   "cell_type": "markdown",
   "metadata": {},
   "source": [
    "## 字符串转义序列 "
   ]
  },
  {
   "cell_type": "markdown",
   "metadata": {},
   "source": [
    "| 转义序列 | 说明 |\n",
    "| :- | :- |\n",
    "| \\\\ | 反斜杠 |\n",
    "| \\' | 单引号 |\n",
    "| \\\" | 双引号 |\n",
    "| \\a | 响铃(alarm) |\n",
    "| \\b | 退格（backspace） |\n",
    "| \\f | 换页 |\n",
    "| \\n | 换行 |\n",
    "| \\r | 回车 |\n",
    "| \\t | 水平制表符 |\n",
    "| \\v | 垂直制表符 |"
   ]
  },
  {
   "cell_type": "markdown",
   "metadata": {},
   "source": [
    "| 字符串格式化 | 说明 |\n",
    "| :- | :- |\n",
    "| %d | 十进制整型数字 |\n",
    "| %i | 十进制整型数字（两者基本没有区别） |\n",
    "| %o | 无符号整数（八进制） |\n",
    "| %u | 无符号整数（十进制） |\n",
    "| %x | 无符号整数（十六进制） |\n",
    "| %X | 无符号整数（十六进制大写字符） |\n",
    "| %e | 浮点数字（科学计数法） |\n",
    "| %E | 浮点数字（科学计数法，用E替代e） |\n",
    "| %f | 浮点数 |\n",
    "| %g | 动调整将整数、浮点数转换成 浮点型或科学计数法表示（超过6位数用科学计数法e）|\n",
    "| %G | 动调整将整数、浮点数转换成 浮点型或科学计数法表示（超过6位数用科学计数法E）|\n",
    "| %c | 字符及ASCII码 |\n",
    "| %r | 原始数据 |\n",
    "| %s | 字符串 |\n",
    "| %% | %号 |"
   ]
  },
  {
   "cell_type": "markdown",
   "metadata": {},
   "source": [
    "## 操作符"
   ]
  },
  {
   "cell_type": "markdown",
   "metadata": {},
   "source": [
    "| 符号 | 操作 |\n",
    "| :- | :- :|\n",
    "| + | 加号 |\n",
    "| - | 减号 |\n",
    "| * | 乘号 |\n",
    "| ** | 指数 |\n",
    "| / | 除号 |\n",
    "| // | 取整除 |\n",
    "| % | 取余数 |\n",
    "| > | 大于 |\n",
    "| < | 小于 |\n",
    "| >= | 大于或等于 |\n",
    "| <= | 小于或等于 |\n",
    "| == | 等于 |\n",
    "| != | 不等于 |\n",
    "| <> | 不等于 |\n",
    "| @ | 装饰器，将下面一个函数的返回值作为变量传递给@之后的函数。\n",
    "| . | 操作符 |\n",
    "| += | a+=b等效于a=a+b |\n",
    "| -= | a-=b等效于a=a-b |\n",
    "| * = | a*=b等效于a=a*b | \n",
    "|/= | a/=b等效于a=a/b |"
   ]
  },
  {
   "cell_type": "markdown",
   "metadata": {},
   "source": [
    "* @的用法详解：https://blog.csdn.net/tyhj_sf/article/details/77417455 和 https://blog.csdn.net/xiangxianghehe/article/details/77170585"
   ]
  },
  {
   "cell_type": "code",
   "execution_count": 3,
   "metadata": {},
   "outputs": [
    {
     "name": "stdout",
     "output_type": "stream",
     "text": [
      "3 2\n"
     ]
    }
   ],
   "source": [
    "a=1\n",
    "b=2 \n",
    "a+=b\n",
    "print(a,b)"
   ]
  },
  {
   "cell_type": "markdown",
   "metadata": {},
   "source": [
    "# python 数据类型 http://www.runoob.com/python3/python3-data-type.html"
   ]
  },
  {
   "cell_type": "markdown",
   "metadata": {},
   "source": [
    "| 数据类型 | 创建方法 | 特点 |\n",
    "| :- | :- | :- |\n",
    "| 数字 | 直接创建 | 各类数字 |\n",
    "|字符串 | 直接创建 | 元素不可改变；两种索引方式，从左往右以0开始，从右往左以-1开始 |\n",
    "| 列表 | a=[1, 2, 3]或list(空或迭代对象) | 元素可变、可修改 |\n",
    "| 元组 | a=(1,2,3) |与列表类似，但是元素不可改变 |\n",
    "| 集合 | a={1,2,3}或a=set(1,2,3) ,空集必须用set（）创建 | 重复的集合元素会自动去除，集合之间可进行运算 |\n",
    "| 字典 | a={key1:value1,key2:value2}或者a=dict([(key,value),(key,value)]) | 一个键对应一个键值，键必须是唯一的"
   ]
  }
 ],
 "metadata": {
  "kernelspec": {
   "display_name": "Python 3",
   "language": "python",
   "name": "python3"
  },
  "language_info": {
   "codemirror_mode": {
    "name": "ipython",
    "version": 3
   },
   "file_extension": ".py",
   "mimetype": "text/x-python",
   "name": "python",
   "nbconvert_exporter": "python",
   "pygments_lexer": "ipython3",
   "version": "3.6.5"
  }
 },
 "nbformat": 4,
 "nbformat_minor": 2
}
